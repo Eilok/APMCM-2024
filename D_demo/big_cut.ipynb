{
 "cells": [
  {
   "cell_type": "markdown",
   "metadata": {},
   "source": [
    "## lsing模型"
   ]
  },
  {
   "cell_type": "markdown",
   "metadata": {},
   "source": [
    "#### 模拟退火"
   ]
  },
  {
   "cell_type": "code",
   "execution_count": 1,
   "metadata": {},
   "outputs": [],
   "source": [
    "# 导入 kaiwu sdk\n",
    "import kaiwu as kw\n",
    "\n",
    "# 授权初始化代码\n",
    "# 示例的user_id和sdk_code无效，需要替换成自己的用户ID和SDK授权码\n",
    "kw.license.init(user_id=\"72205624632438786\", sdk_code=\"sDsp8PTEJ5neUIR78DNMP7N5MtzyP7\")"
   ]
  },
  {
   "cell_type": "code",
   "execution_count": 2,
   "metadata": {},
   "outputs": [],
   "source": [
    "import numpy as np\n",
    "\n",
    "# Import the plotting library\n",
    "import matplotlib.pyplot as plt\n",
    "\n",
    "# invert input graph matrix\n",
    "# 根据优化目标，matrix就是lsing矩阵\n",
    "matrix = -np.array([\n",
    "                [0, 1, 0, 1, 1, 0, 0, 1, 1, 0],\n",
    "                [1, 0, 1, 0, 0, 1, 1, 1, 0, 0],\n",
    "                [0, 1, 0, 1, 1, 0, 0, 0, 1, 0],\n",
    "                [1, 0, 1, 0, 0, 1, 1, 0 ,1, 0],\n",
    "                [1, 0, 1, 0, 0, 1, 0, 1, 0, 1],\n",
    "                [0, 1, 0, 1, 1, 0, 0, 0, 1, 1],\n",
    "                [0, 1, 0, 1, 0, 0, 0, 0, 0, 1],\n",
    "                [1, 1, 0, 0, 1, 0, 0, 0, 1, 0],\n",
    "                [1, 0, 1, 1, 0, 1, 0, 1, 0, 1],\n",
    "                [0, 0, 0, 0, 1, 1, 1, 0, 1, 0]])"
   ]
  },
  {
   "cell_type": "code",
   "execution_count": 3,
   "metadata": {},
   "outputs": [],
   "source": [
    "worker = kw.classical.SimulatedAnnealingOptimizer(initial_temperature=100,\n",
    "                                                  alpha=0.99,\n",
    "                                                  cutoff_temperature=0.001,\n",
    "                                                  iterations_per_t=10,\n",
    "                                                  size_limit=100)\n",
    "output = worker.solve(matrix)"
   ]
  },
  {
   "cell_type": "code",
   "execution_count": 4,
   "metadata": {},
   "outputs": [
    {
     "name": "stdout",
     "output_type": "stream",
     "text": [
      "[[-1 -1 -1 -1  1 -1  1 -1  1 -1]\n",
      " [-1 -1 -1  1  1 -1 -1  1  1 -1]\n",
      " [-1 -1 -1  1  1 -1 -1 -1  1 -1]\n",
      " [-1 -1 -1  1  1 -1 -1  1  1  1]\n",
      " [-1  1 -1 -1  1 -1 -1  1  1  1]\n",
      " [-1 -1 -1  1  1 -1 -1 -1  1  1]\n",
      " [-1 -1  1 -1  1 -1  1 -1  1 -1]\n",
      " [-1 -1 -1  1  1  1  1  1 -1 -1]\n",
      " [ 1 -1 -1  1 -1 -1 -1  1 -1  1]\n",
      " [-1  1 -1  1  1  1 -1 -1 -1 -1]\n",
      " [-1  1 -1  1 -1 -1 -1 -1 -1  1]\n",
      " [-1 -1 -1  1  1 -1 -1  1 -1  1]\n",
      " [-1  1 -1 -1  1 -1 -1  1  1 -1]\n",
      " [-1  1 -1  1  1 -1  1 -1 -1 -1]\n",
      " [-1  1 -1  1  1  1 -1 -1 -1  1]\n",
      " [-1 -1  1  1  1 -1 -1  1 -1  1]\n",
      " [-1  1 -1  1 -1 -1 -1 -1  1 -1]\n",
      " [ 1 -1  1 -1 -1 -1  1  1  1 -1]\n",
      " [ 1 -1  1 -1 -1 -1  1 -1  1 -1]\n",
      " [ 1  1 -1  1  1 -1 -1 -1 -1 -1]\n",
      " [-1  1 -1  1  1  1 -1  1 -1  1]\n",
      " [-1  1 -1  1  1 -1  1  1 -1 -1]\n",
      " [-1  1 -1  1  1 -1  1  1  1  1]\n",
      " [-1 -1  1  1 -1  1 -1  1 -1 -1]\n",
      " [-1 -1  1 -1 -1  1  1 -1  1 -1]\n",
      " [ 1 -1 -1  1  1 -1  1 -1  1 -1]\n",
      " [-1 -1 -1  1  1 -1  1 -1  1 -1]\n",
      " [ 1 -1  1 -1  1  1  1  1  1 -1]\n",
      " [-1 -1  1 -1  1  1  1  1  1 -1]\n",
      " [-1  1 -1  1  1  1 -1 -1  1  1]\n",
      " [ 1  1 -1 -1 -1 -1 -1 -1  1  1]\n",
      " [-1 -1 -1  1  1 -1  1  1  1 -1]\n",
      " [ 1  1 -1  1  1 -1 -1  1 -1  1]\n",
      " [-1  1 -1  1 -1 -1 -1  1  1 -1]\n",
      " [-1  1 -1  1  1  1 -1  1 -1 -1]\n",
      " [ 1  1  1 -1 -1  1  1 -1 -1 -1]\n",
      " [ 1 -1  1 -1 -1  1 -1  1  1 -1]\n",
      " [-1  1 -1  1 -1 -1 -1  1 -1  1]\n",
      " [-1  1 -1  1  1  1  1 -1  1 -1]\n",
      " [-1  1 -1  1  1 -1 -1 -1 -1 -1]\n",
      " [ 1  1  1 -1 -1 -1 -1  1 -1  1]\n",
      " [ 1  1  1 -1 -1 -1 -1 -1  1  1]\n",
      " [ 1 -1 -1  1 -1  1  1  1 -1 -1]\n",
      " [-1  1 -1  1  1  1 -1  1  1 -1]\n",
      " [-1  1  1 -1  1 -1 -1 -1  1  1]\n",
      " [ 1 -1 -1 -1  1 -1  1 -1  1 -1]\n",
      " [-1 -1  1 -1  1  1  1 -1  1 -1]\n",
      " [-1  1 -1  1  1 -1  1  1 -1  1]\n",
      " [-1  1 -1 -1  1 -1  1 -1  1  1]\n",
      " [-1 -1 -1 -1  1  1  1 -1  1 -1]\n",
      " [ 1  1 -1 -1  1 -1  1 -1  1 -1]\n",
      " [ 1  1 -1 -1  1 -1 -1 -1  1 -1]\n",
      " [ 1  1 -1 -1  1  1 -1 -1  1 -1]\n",
      " [-1  1 -1  1  1 -1 -1  1 -1 -1]\n",
      " [ 1  1 -1 -1  1 -1 -1 -1  1  1]\n",
      " [-1  1 -1 -1  1 -1  1 -1  1 -1]\n",
      " [-1 -1  1  1 -1 -1 -1  1 -1  1]\n",
      " [-1  1 -1  1 -1 -1 -1  1  1  1]\n",
      " [-1  1  1 -1  1 -1  1 -1  1 -1]\n",
      " [ 1 -1  1 -1 -1  1 -1 -1  1 -1]\n",
      " [ 1  1  1 -1 -1  1  1 -1  1 -1]\n",
      " [-1  1  1  1  1 -1 -1  1 -1  1]\n",
      " [-1  1 -1  1 -1 -1 -1 -1  1  1]\n",
      " [-1  1 -1 -1  1 -1 -1 -1  1 -1]\n",
      " [-1  1  1  1  1 -1 -1 -1  1 -1]\n",
      " [ 1 -1 -1 -1 -1  1  1  1  1 -1]\n",
      " [ 1  1 -1  1 -1 -1 -1 -1 -1  1]\n",
      " [ 1  1  1  1 -1  1 -1 -1 -1  1]\n",
      " [-1  1 -1  1  1 -1  1 -1 -1  1]\n",
      " [-1  1  1  1  1 -1  1 -1  1 -1]\n",
      " [ 1  1  1 -1 -1 -1 -1 -1 -1  1]\n",
      " [-1  1  1  1  1 -1 -1 -1 -1  1]\n",
      " [ 1  1 -1  1  1 -1 -1 -1  1 -1]\n",
      " [ 1  1 -1  1  1 -1 -1 -1  1  1]\n",
      " [ 1 -1  1 -1 -1  1  1  1  1 -1]\n",
      " [-1  1 -1  1  1 -1  1 -1  1 -1]\n",
      " [-1  1 -1  1  1 -1 -1  1 -1  1]\n",
      " [-1  1 -1  1  1 -1  1  1  1 -1]\n",
      " [ 1  1 -1  1  1 -1  1 -1  1 -1]\n",
      " [-1  1 -1  1  1 -1 -1  1  1 -1]\n",
      " [ 1  1 -1  1 -1 -1 -1 -1  1  1]\n",
      " [-1  1 -1  1  1 -1 -1 -1  1 -1]\n",
      " [ 1  1 -1  1  1 -1 -1 -1 -1  1]\n",
      " [-1  1 -1  1  1 -1 -1  1  1  1]\n",
      " [ 1  1  1 -1 -1  1 -1 -1 -1  1]\n",
      " [-1  1 -1 -1  1 -1  1  1  1 -1]\n",
      " [-1 -1  1  1 -1  1 -1  1 -1  1]\n",
      " [-1  1 -1 -1  1 -1 -1 -1  1  1]\n",
      " [ 1  1  1 -1 -1  1  1  1 -1 -1]\n",
      " [-1 -1  1 -1 -1  1 -1  1 -1  1]\n",
      " [-1  1  1 -1  1  1  1 -1  1 -1]\n",
      " [-1  1 -1  1  1 -1 -1 -1  1  1]\n",
      " [-1  1 -1  1  1  1 -1 -1  1 -1]\n",
      " [-1  1 -1 -1  1  1 -1 -1  1 -1]\n",
      " [-1  1 -1 -1  1  1  1 -1  1 -1]\n",
      " [-1  1  1 -1  1 -1 -1 -1  1 -1]\n",
      " [-1  1  1  1  1 -1 -1 -1  1  1]\n",
      " [ 1  1 -1 -1  1  1  1 -1  1 -1]\n",
      " [-1  1 -1  1  1 -1  1 -1  1  1]\n",
      " [-1  1 -1  1  1 -1 -1 -1 -1  1]]\n"
     ]
    }
   ],
   "source": [
    "print(output)"
   ]
  },
  {
   "cell_type": "code",
   "execution_count": 5,
   "metadata": {},
   "outputs": [
    {
     "name": "stdout",
     "output_type": "stream",
     "text": [
      "The obtained max cut is 19.0.\n"
     ]
    }
   ],
   "source": [
    "opt = kw.sampler.optimal_sampler(matrix, output, 0)\n",
    "best = opt[0][0]\n",
    "max_cut = (np.sum(-matrix)-np.dot(-matrix,best).dot(best))/4\n",
    "print(\"The obtained max cut is \"+str(max_cut)+\".\")"
   ]
  },
  {
   "cell_type": "markdown",
   "metadata": {},
   "source": [
    "## QUBO方法求解"
   ]
  },
  {
   "cell_type": "code",
   "execution_count": 6,
   "metadata": {},
   "outputs": [
    {
     "name": "stderr",
     "output_type": "stream",
     "text": [
      "C:\\Users\\admin\\AppData\\Local\\Temp\\ipykernel_17916\\4066116059.py:22: DeprecationWarning: Call to deprecated function (or staticmethod) binary. (You can use the standard function `kw.qubo.Binary`.) -- Deprecated since version 1.0.0.\n",
      "  x = kw.qubo.ndarray(num_nodes,'x',kw.qubo.binary)\n"
     ]
    }
   ],
   "source": [
    "import pandas as pd\n",
    "import numpy as np\n",
    "\n",
    "# Define the input adjacency matrix for the graph\n",
    "adj_matrix = np.array([\n",
    "                [0, 1, 0, 1, 1, 0, 0, 1, 1, 0],\n",
    "                [1, 0, 1, 0, 0, 1, 1, 1, 0, 0],\n",
    "                [0, 1, 0, 1, 1, 0, 0, 0, 1, 0],\n",
    "                [1, 0, 1, 0, 0, 1, 1, 0 ,1, 0],\n",
    "                [1, 0, 1, 0, 0, 1, 0, 1, 0, 1],\n",
    "                [0, 1, 0, 1, 1, 0, 0, 0, 1, 1],\n",
    "                [0, 1, 0, 1, 0, 0, 0, 0, 0, 1],\n",
    "                [1, 1, 0, 0, 1, 0, 0, 0, 1, 0],\n",
    "                [1, 0, 1, 1, 0, 1, 0, 1, 0, 1],\n",
    "                [0, 0, 0, 0, 1, 1, 1, 0, 1, 0]])\n",
    "\n",
    "# Get the number of nodes in the graph\n",
    "num_nodes = len(adj_matrix)\n",
    "\n",
    "# Create a QUBO variable array 'x' with 'num_nodes' variables\n",
    "# each representing a node in the graph\n",
    "x = kw.qubo.ndarray(num_nodes,'x',kw.qubo.binary)\n",
    "\n",
    "# Define the objective function for the QUBO model of Max cut problem\n",
    "obj = -x.T @ adj_matrix @ (1-x)\n",
    "\n",
    "# parse QUBO\n",
    "obj = kw.qubo.make(obj)\n",
    "\n",
    "# Extract the QUBO matrix and store it in a pandas DataFrame\n",
    "qubo_matrix = kw.qubo.qubo_model_to_qubo_matrix(obj)['qubo_matrix']\n",
    "\n",
    "# Check whether the QUBO matrix satisfy the precision requirement\n",
    "kw.qubo.check_qubo_matrix_bit_width(qubo_matrix)\n",
    "\n",
    "# Save the QUBO matrix to a CSV file without including index or header\n",
    "df = pd.DataFrame(qubo_matrix)\n",
    "csv_file_path = 'qubo_matrix.csv'\n",
    "df.to_csv(csv_file_path,index=False,header=False)"
   ]
  },
  {
   "cell_type": "code",
   "execution_count": 7,
   "metadata": {},
   "outputs": [
    {
     "name": "stdout",
     "output_type": "stream",
     "text": [
      "[[-5.  2.  0.  2.  2.  0.  0.  2.  2.  0.]\n",
      " [ 0. -5.  2.  0.  0.  2.  2.  2.  0.  0.]\n",
      " [ 0.  0. -4.  2.  2.  0.  0.  0.  2.  0.]\n",
      " [ 0.  0.  0. -5.  0.  2.  2.  0.  2.  0.]\n",
      " [ 0.  0.  0.  0. -5.  2.  0.  2.  0.  2.]\n",
      " [ 0.  0.  0.  0.  0. -5.  0.  0.  2.  2.]\n",
      " [ 0.  0.  0.  0.  0.  0. -3.  0.  0.  2.]\n",
      " [ 0.  0.  0.  0.  0.  0.  0. -4.  2.  0.]\n",
      " [ 0.  0.  0.  0.  0.  0.  0.  0. -6.  2.]\n",
      " [ 0.  0.  0.  0.  0.  0.  0.  0.  0. -4.]]\n"
     ]
    }
   ],
   "source": [
    "print(qubo_matrix)"
   ]
  },
  {
   "cell_type": "code",
   "execution_count": 11,
   "metadata": {},
   "outputs": [
    {
     "name": "stdout",
     "output_type": "stream",
     "text": [
      "[[-0.   -0.25 -0.   -0.25 -0.25 -0.   -0.   -0.25 -0.25 -0.   -0.  ]\n",
      " [-0.25 -0.   -0.25 -0.   -0.   -0.25 -0.25 -0.25 -0.   -0.   -0.  ]\n",
      " [-0.   -0.25 -0.   -0.25 -0.25 -0.   -0.   -0.   -0.25 -0.   -0.  ]\n",
      " [-0.25 -0.   -0.25 -0.   -0.   -0.25 -0.25 -0.   -0.25 -0.   -0.  ]\n",
      " [-0.25 -0.   -0.25 -0.   -0.   -0.25 -0.   -0.25 -0.   -0.25 -0.  ]\n",
      " [-0.   -0.25 -0.   -0.25 -0.25 -0.   -0.   -0.   -0.25 -0.25 -0.  ]\n",
      " [-0.   -0.25 -0.   -0.25 -0.   -0.   -0.   -0.   -0.   -0.25 -0.  ]\n",
      " [-0.25 -0.25 -0.   -0.   -0.25 -0.   -0.   -0.   -0.25 -0.   -0.  ]\n",
      " [-0.25 -0.   -0.25 -0.25 -0.   -0.25 -0.   -0.25 -0.   -0.25 -0.  ]\n",
      " [-0.   -0.   -0.   -0.   -0.25 -0.25 -0.25 -0.   -0.25 -0.   -0.  ]\n",
      " [-0.   -0.   -0.   -0.   -0.   -0.   -0.   -0.   -0.   -0.   -0.  ]]\n"
     ]
    }
   ],
   "source": [
    "# Convert to Ising model\n",
    "obj_ising = kw.qubo.qubo_model_to_ising_model(obj)\n",
    "\n",
    "# Extract the Ising matrix\n",
    "ls_matrix2 = obj_ising.get_ising()[\"ising\"]\n",
    "\n",
    "print(ls_matrix2)"
   ]
  },
  {
   "cell_type": "code",
   "execution_count": 12,
   "metadata": {},
   "outputs": [
    {
     "name": "stdout",
     "output_type": "stream",
     "text": [
      "[ 1 -1  1 -1 -1  1  1  1 -1  1 -1]\n"
     ]
    }
   ],
   "source": [
    "worker = kw.classical.SimulatedAnnealingOptimizer(initial_temperature=100,\n",
    "                                                  alpha=0.99,\n",
    "                                                  cutoff_temperature=0.001,\n",
    "                                                  iterations_per_t=10,\n",
    "                                                  size_limit=100)\n",
    "output = worker.solve(ls_matrix2)\n",
    "\n",
    "opt = kw.sampler.optimal_sampler(ls_matrix2, output, 0)\n",
    "best = opt[0][0]\n",
    "print(best)"
   ]
  },
  {
   "cell_type": "code",
   "execution_count": 13,
   "metadata": {},
   "outputs": [
    {
     "name": "stdout",
     "output_type": "stream",
     "text": [
      "{'x[0]': 1.0, 'x[1]': 0.0, 'x[2]': 1.0, 'x[3]': 0.0, 'x[4]': 0.0, 'x[5]': 1.0, 'x[6]': 1.0, 'x[7]': 1.0, 'x[8]': 0.0, 'x[9]': 1.0}\n"
     ]
    }
   ],
   "source": [
    "# Get the list of variable names\n",
    "vars = obj_ising.get_variables()\n",
    "\n",
    "# Substitute the spin vector and obtain the result dictionary\n",
    "sol_dict = kw.qubo.get_sol_dict(best, vars)\n",
    "print(sol_dict)"
   ]
  },
  {
   "cell_type": "code",
   "execution_count": 14,
   "metadata": {},
   "outputs": [
    {
     "name": "stdout",
     "output_type": "stream",
     "text": [
      "[1.0 0.0 1.0 0.0 0.0 1.0 1.0 1.0 0.0 1.0]\n"
     ]
    }
   ],
   "source": [
    "# Get the numerical value matrix of x\n",
    "x_val = kw.qubo.get_array_val(x, sol_dict)\n",
    "print(x_val)"
   ]
  },
  {
   "cell_type": "code",
   "execution_count": 15,
   "metadata": {},
   "outputs": [
    {
     "name": "stdout",
     "output_type": "stream",
     "text": [
      "-19.0\n"
     ]
    }
   ],
   "source": [
    "ans = -x_val.T @ adj_matrix @ (1-x_val)\n",
    "print(ans)"
   ]
  },
  {
   "cell_type": "code",
   "execution_count": 8,
   "metadata": {},
   "outputs": [
    {
     "name": "stdout",
     "output_type": "stream",
     "text": [
      "[[-0.   -0.25 -0.   -0.25 -0.25 -0.   -0.   -0.25 -0.25 -0.   -0.  ]\n",
      " [-0.25 -0.   -0.25 -0.   -0.   -0.25 -0.25 -0.25 -0.   -0.   -0.  ]\n",
      " [-0.   -0.25 -0.   -0.25 -0.25 -0.   -0.   -0.   -0.25 -0.   -0.  ]\n",
      " [-0.25 -0.   -0.25 -0.   -0.   -0.25 -0.25 -0.   -0.25 -0.   -0.  ]\n",
      " [-0.25 -0.   -0.25 -0.   -0.   -0.25 -0.   -0.25 -0.   -0.25 -0.  ]\n",
      " [-0.   -0.25 -0.   -0.25 -0.25 -0.   -0.   -0.   -0.25 -0.25 -0.  ]\n",
      " [-0.   -0.25 -0.   -0.25 -0.   -0.   -0.   -0.   -0.   -0.25 -0.  ]\n",
      " [-0.25 -0.25 -0.   -0.   -0.25 -0.   -0.   -0.   -0.25 -0.   -0.  ]\n",
      " [-0.25 -0.   -0.25 -0.25 -0.   -0.25 -0.   -0.25 -0.   -0.25 -0.  ]\n",
      " [-0.   -0.   -0.   -0.   -0.25 -0.25 -0.25 -0.   -0.25 -0.   -0.  ]\n",
      " [-0.   -0.   -0.   -0.   -0.   -0.   -0.   -0.   -0.   -0.   -0.  ]]\n"
     ]
    }
   ],
   "source": [
    "ls_matrix, _ = kw.qubo.qubo_matrix_to_ising_matrix(qubo_matrix)\n",
    "print(ls_matrix)"
   ]
  },
  {
   "cell_type": "code",
   "execution_count": 9,
   "metadata": {},
   "outputs": [
    {
     "name": "stdout",
     "output_type": "stream",
     "text": [
      "[[ 1  1  1 ... -1 -1 -1]\n",
      " [ 1  1  1 ... -1 -1  1]\n",
      " [-1 -1 -1 ...  1 -1 -1]\n",
      " ...\n",
      " [ 1 -1  1 ... -1  1  1]\n",
      " [ 1 -1  1 ... -1  1 -1]\n",
      " [ 1 -1  1 ...  1 -1 -1]]\n",
      "The obtained max cut is 4.75.\n"
     ]
    }
   ],
   "source": [
    "worker = kw.classical.SimulatedAnnealingOptimizer(initial_temperature=100,\n",
    "                                                  alpha=0.99,\n",
    "                                                  cutoff_temperature=0.001,\n",
    "                                                  iterations_per_t=10,\n",
    "                                                  size_limit=100)\n",
    "output = worker.solve(ls_matrix)\n",
    "print(output)\n",
    "\n",
    "opt = kw.sampler.optimal_sampler(ls_matrix, output, 0)\n",
    "best = opt[0][0]\n",
    "max_cut = (np.sum(-ls_matrix)-np.dot(-ls_matrix,best).dot(best))/4\n",
    "print(\"The obtained max cut is \"+str(max_cut)+\".\")"
   ]
  },
  {
   "cell_type": "code",
   "execution_count": 10,
   "metadata": {},
   "outputs": [
    {
     "data": {
      "text/plain": [
       "19.0"
      ]
     },
     "execution_count": 10,
     "metadata": {},
     "output_type": "execute_result"
    }
   ],
   "source": [
    "max_cut*4"
   ]
  },
  {
   "cell_type": "code",
   "execution_count": 4,
   "metadata": {},
   "outputs": [
    {
     "name": "stdout",
     "output_type": "stream",
     "text": [
      "[[-1 -1 -1  1  1 -1 -1 -1  1 -1]\n",
      " [-1 -1 -1 -1 -1 -1 -1 -1  1 -1]\n",
      " [-1 -1 -1  1 -1 -1 -1 -1  1 -1]\n",
      " [-1 -1 -1 -1 -1 -1  1 -1 -1 -1]\n",
      " [-1  1 -1 -1 -1 -1  1 -1 -1  1]\n",
      " [-1  1 -1 -1  1 -1 -1 -1  1  1]\n",
      " [-1  1 -1 -1 -1 -1  1 -1 -1 -1]\n",
      " [-1  1 -1 -1  1 -1 -1 -1  1 -1]\n",
      " [-1  1 -1 -1  1 -1 -1 -1 -1  1]\n",
      " [-1  1 -1 -1 -1 -1 -1 -1 -1  1]]\n"
     ]
    }
   ],
   "source": [
    "# 配置模拟退火求解器参数\n",
    "optimizer = kw.classical.SimulatedAnnealingOptimizer(\n",
    "    initial_temperature=100,  # 初始温度\n",
    "    alpha=0.99,               # 温度衰减系数\n",
    "    cutoff_temperature=1e-3,  # 停止温度\n",
    "    iterations_per_t=1000,    # 每个温度的迭代次数\n",
    "    size_limit=qubo_matrix.shape[0]  # QUBO 矩阵的维度\n",
    ")\n",
    "\n",
    "# 使用模拟退火算法求解 QUBO 模型\n",
    "result = optimizer.solve(qubo_matrix)\n",
    "\n",
    "# # 解码最优结果\n",
    "# optimal_solution = result['solution']  # 最优解向量\n",
    "# optimal_value = result['energy']       # 最优值（目标函数值）\n",
    "\n",
    "# # 计算割权值\n",
    "# cut_value = -optimal_value  # 对应最大割问题，目标函数为负，因此取负值\n",
    "\n",
    "# print(\"最优解为:\", optimal_solution)\n",
    "# print(\"对应的最大割权值为:\", cut_value)\n",
    "\n",
    "# # 可视化分组结果\n",
    "# group_a = [i for i, x in enumerate(optimal_solution) if x == 0]\n",
    "# group_b = [i for i, x in enumerate(optimal_solution) if x == 1]\n",
    "\n",
    "# print(\"分组 A 的节点:\", group_a)\n",
    "# print(\"分组 B 的节点:\", group_b)\n",
    "print(result)"
   ]
  },
  {
   "cell_type": "code",
   "execution_count": 6,
   "metadata": {},
   "outputs": [
    {
     "name": "stdout",
     "output_type": "stream",
     "text": [
      "解向量 x: [0 0 0 0 0 0 1 0 0 1]\n",
      "目标值: -2\n"
     ]
    }
   ],
   "source": [
    "# 提取对角线作为变量的初值\n",
    "x = (np.diag(result) > 0).astype(int)  # 将对角线值转为二进制变量 (0 或 1)\n",
    "print(\"解向量 x:\", x)\n",
    "\n",
    "# 计算目标值\n",
    "objective_value = -x.T @ adj_matrix @ x\n",
    "print(\"目标值:\", objective_value)"
   ]
  }
 ],
 "metadata": {
  "kernelspec": {
   "display_name": "quantum-acc",
   "language": "python",
   "name": "python3"
  },
  "language_info": {
   "codemirror_mode": {
    "name": "ipython",
    "version": 3
   },
   "file_extension": ".py",
   "mimetype": "text/x-python",
   "name": "python",
   "nbconvert_exporter": "python",
   "pygments_lexer": "ipython3",
   "version": "3.8.20"
  }
 },
 "nbformat": 4,
 "nbformat_minor": 2
}
